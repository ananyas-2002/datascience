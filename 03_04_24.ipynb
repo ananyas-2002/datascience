{
 "cells": [
  {
   "cell_type": "code",
   "execution_count": 2,
   "id": "29b3276e",
   "metadata": {},
   "outputs": [
    {
     "name": "stdout",
     "output_type": "stream",
     "text": [
      "enter size of list: 5\n",
      "enter elements: 6\n",
      "enter elements: 9\n",
      "enter elements: 12\n",
      "enter elements: 7\n",
      "enter elements: 3\n",
      "List:  [6, 9, 12, 7, 3]\n",
      "Mean of the list:  7.4\n"
     ]
    }
   ],
   "source": [
    "lst=[]\n",
    "n=int(input(\"enter size of list: \"))\n",
    "for i in range(0,n):\n",
    "    ele=int(input(\"enter elements: \"))\n",
    "    lst.append(ele)\n",
    "print(\"List: \",lst)\n",
    "mean=sum(lst)/len(lst)\n",
    "print(\"Mean of the list: \",mean)"
   ]
  },
  {
   "cell_type": "code",
   "execution_count": 6,
   "id": "1a2dc4bf",
   "metadata": {},
   "outputs": [
    {
     "name": "stdout",
     "output_type": "stream",
     "text": [
      "Mean of the list:  5.428571428571429\n"
     ]
    }
   ],
   "source": [
    "import numpy as np\n",
    "arr=np.array([5,8,1,9,10,3,2])\n",
    "total=0\n",
    "for i in arr:\n",
    "    total+=i\n",
    "mean=total/len(arr)\n",
    "print(\"Mean of the list: \",mean)"
   ]
  },
  {
   "cell_type": "code",
   "execution_count": 7,
   "id": "519eb80b",
   "metadata": {},
   "outputs": [
    {
     "name": "stdout",
     "output_type": "stream",
     "text": [
      "Mean of the list:  5.428571428571429\n"
     ]
    }
   ],
   "source": [
    "lst=[5,8,1,9,10,3,2]\n",
    "mean=sum(lst)/len(lst)\n",
    "print(\"Mean of the list: \",mean)"
   ]
  },
  {
   "cell_type": "code",
   "execution_count": 8,
   "id": "1ea0b4b5",
   "metadata": {},
   "outputs": [
    {
     "name": "stdout",
     "output_type": "stream",
     "text": [
      "enter size of list: 5\n",
      "enter elements: 6\n",
      "enter elements: 9\n",
      "enter elements: 12\n",
      "enter elements: 4\n",
      "enter elements: 10\n",
      "List1::  [6, 9, 12, 4, 10]\n",
      "Mean of the list::  8.2\n"
     ]
    }
   ],
   "source": [
    "#Mean without using built in function\n",
    "lst=[]\n",
    "n=int(input(\"enter size of list: \"))\n",
    "for i in range(0,n):\n",
    "    lst.append(int(input(\"enter elements: \")))\n",
    "print(\"List1:: \",lst)\n",
    "total=0\n",
    "for i in lst:\n",
    "    total+=i\n",
    "mean=total/n\n",
    "print(\"Mean of the list:: \",mean)"
   ]
  },
  {
   "cell_type": "code",
   "execution_count": 10,
   "id": "33ea1fa0",
   "metadata": {},
   "outputs": [
    {
     "name": "stdout",
     "output_type": "stream",
     "text": [
      "enter size of list: 5\n",
      "enter elements: 6\n",
      "enter elements: 9\n",
      "enter elements: 12\n",
      "enter elements: 4\n",
      "enter elements: 10\n",
      "List1::  [6, 9, 12, 4, 10]\n",
      "Mean of the list::  8.2\n"
     ]
    }
   ],
   "source": [
    "#Mean with using built in function\n",
    "import numpy as np\n",
    "lst=[]\n",
    "n=int(input(\"enter size of list: \"))\n",
    "for i in range(0,n):\n",
    "    lst.append(int(input(\"enter elements: \")))\n",
    "print(\"List1:: \",lst)\n",
    "mean=np.mean(lst)\n",
    "print(\"Mean of the list:: \",mean)"
   ]
  },
  {
   "cell_type": "code",
   "execution_count": 16,
   "id": "0841d34c",
   "metadata": {},
   "outputs": [
    {
     "name": "stdout",
     "output_type": "stream",
     "text": [
      "enter size of list: 5\n",
      "enter elements: 2\n",
      "enter elements: 8\n",
      "enter elements: 12\n",
      "enter elements: 3\n",
      "enter elements: 9\n",
      "List1::  [2, 8, 12, 3, 9]\n",
      "List after sort::  [2, 3, 8, 9, 12]\n",
      "Median :: 8\n"
     ]
    }
   ],
   "source": [
    "#Median without using built in function\n",
    "lst=[]\n",
    "n=int(input(\"enter size of list: \"))\n",
    "for i in range(0,n):\n",
    "    lst.append(int(input(\"enter elements: \")))\n",
    "print(\"List1:: \",lst)\n",
    "lst.sort()\n",
    "print(\"List after sort:: \",lst)\n",
    "if n%2==0:\n",
    "    median=(lst[n//2]+lst[n//2-1])/2\n",
    "else:\n",
    "    median=lst[n//2]\n",
    "print(\"Median ::\",median)"
   ]
  },
  {
   "cell_type": "code",
   "execution_count": 14,
   "id": "cd475c70",
   "metadata": {},
   "outputs": [
    {
     "name": "stdout",
     "output_type": "stream",
     "text": [
      "enter size of list: 5\n",
      "enter elements: 2\n",
      "enter elements: 8\n",
      "enter elements: 12\n",
      "enter elements: 3\n",
      "enter elements: 9\n",
      "List1::  [2, 8, 12, 3, 9]\n",
      "List after sort::  [2, 3, 8, 9, 12]\n",
      "Median :: 8.0\n"
     ]
    }
   ],
   "source": [
    "#Median with using built in function\n",
    "import numpy as np\n",
    "lst=[]\n",
    "n=int(input(\"enter size of list: \"))\n",
    "for i in range(0,n):\n",
    "    lst.append(int(input(\"enter elements: \")))\n",
    "print(\"List1:: \",lst)\n",
    "lst.sort()\n",
    "print(\"List after sort:: \",lst)\n",
    "median=np.median(lst)\n",
    "print(\"Median ::\",median)"
   ]
  },
  {
   "cell_type": "code",
   "execution_count": 28,
   "id": "e09fcb32",
   "metadata": {},
   "outputs": [
    {
     "name": "stdout",
     "output_type": "stream",
     "text": [
      "enter size of list: 6\n",
      "enter elements: 1\n",
      "enter elements: 2\n",
      "enter elements: 1\n",
      "enter elements: 2\n",
      "enter elements: 3\n",
      "enter elements: 4\n",
      "List1::  [1, 2, 1, 2, 3, 4]\n",
      "Mode:: [1, 2]\n"
     ]
    }
   ],
   "source": [
    "#Mode without using built in function\n",
    "lst=[]\n",
    "n=int(input(\"enter size of list: \"))\n",
    "for i in range(0,n):\n",
    "    lst.append(int(input(\"enter elements: \")))\n",
    "print(\"List1:: \",lst)\n",
    "unique_list=[]\n",
    "non_unq=[]\n",
    "for data in lst:\n",
    "    if data not in unique_list:\n",
    "        unique_list.append(data)\n",
    "    else:\n",
    "        non_unq.append(data)\n",
    "max_count=0\n",
    "mode_list=[]\n",
    "for i in  non_unq:\n",
    "    current_count=non_unq.count(i)\n",
    "    if current_count>max_count:\n",
    "        max_count=current_count\n",
    "        mode_list=[i]\n",
    "    elif current_count==max_count:\n",
    "        mode_list.append(i)\n",
    "print(\"Mode::\",mode_list)"
   ]
  },
  {
   "cell_type": "code",
   "execution_count": 32,
   "id": "c7bbcbd1",
   "metadata": {},
   "outputs": [
    {
     "name": "stdout",
     "output_type": "stream",
     "text": [
      "enter size of list: 6\n",
      "enter elements: 1\n",
      "enter elements: 2\n",
      "enter elements: 1\n",
      "enter elements: 2\n",
      "enter elements: 3\n",
      "enter elements: 4\n",
      "List1::  [1, 2, 1, 2, 3, 4]\n",
      "Mode:: ModeResult(mode=array([1]), count=array([2]))\n"
     ]
    }
   ],
   "source": [
    "#Mode with using built in function \n",
    "from scipy import stats \n",
    "lst=[] \n",
    "n=int(input(\"enter size of list: \")) \n",
    "for i in range(0,n): \n",
    "    lst.append(int(input(\"enter elements: \"))) \n",
    "print(\"List1:: \",lst) \n",
    "mode=stats.mode(lst,keepdims=True) \n",
    "print(\"Mode::\",mode)"
   ]
  },
  {
   "cell_type": "code",
   "execution_count": 36,
   "id": "43341f28",
   "metadata": {},
   "outputs": [
    {
     "name": "stdout",
     "output_type": "stream",
     "text": [
      "enter size of list: 6\n",
      "enter elements: 1\n",
      "enter elements: 2\n",
      "enter elements: 1\n",
      "enter elements: 2\n",
      "enter elements: 3\n",
      "enter elements: 4\n",
      "List1::  [1, 2, 1, 2, 3, 4]\n",
      "Mode:: [1, 2]\n"
     ]
    }
   ],
   "source": [
    "#Mode with using built in function \n",
    "import statistics \n",
    "lst=[] \n",
    "n=int(input(\"enter size of list: \")) \n",
    "for i in range(0,n): \n",
    "    lst.append(int(input(\"enter elements: \"))) \n",
    "print(\"List1:: \",lst) \n",
    "mode=statistics.multimode(lst) \n",
    "print(\"Mode::\",mode)"
   ]
  },
  {
   "cell_type": "code",
   "execution_count": 38,
   "id": "4562bd9f",
   "metadata": {},
   "outputs": [
    {
     "data": {
      "image/png": "[encoded data removed]",
      "text/plain": [
       "<Figure size 640x480 with 1 Axes>"
      ]
     },
     "metadata": {},
     "output_type": "display_data"
    }
   ],
   "source": [
    "#data visualization (scatter plot)\n",
    "import pandas as pd\n",
    "import matplotlib.pyplot as plt\n",
    "data=pd.read_csv('tips.csv')\n",
    "plt.scatter(data['day'], data['tip'])\n",
    "plt.title(\"Scatter Plot\")\n",
    "plt.xlabel('Day')\n",
    "plt.ylabel('Tip')\n",
    "plt.show()"
   ]
  },
  {
   "cell_type": "code",
   "execution_count": 54,
   "id": "035eba3e",
   "metadata": {},
   "outputs": [
    {
     "data": {
      "image/png": "[encoded data removed]",
      "text/plain": [
       "<Figure size 640x480 with 1 Axes>"
      ]
     },
     "metadata": {},
     "output_type": "display_data"
    }
   ],
   "source": [
    "import matplotlib.pyplot as plt\n",
    "\n",
    "x = [1, 2, 3, 4]\n",
    "y =[2, 3, 4,5]\n",
    "plt.scatter(x, y, color='blue', label='Data Point')\n",
    "plt.title('Scatter Plot Example')\n",
    "plt.xlabel('X-axis')\n",
    "plt.ylabel('Y-axis')\n",
    "plt.legend(loc='upper left')\n",
    "plt.show()\n"
   ]
  },
  {
   "cell_type": "code",
   "execution_count": 50,
   "id": "f4c5f171",
   "metadata": {},
   "outputs": [
    {
     "data": {
      "image/png": "[encoded data removed]",
      "text/plain": [
       "<Figure size 640x480 with 1 Axes>"
      ]
     },
     "metadata": {},
     "output_type": "display_data"
    }
   ],
   "source": [
    "import matplotlib.pyplot as plt\n",
    "sizes = [20,30,15] \n",
    "labels = ['A', 'B', 'C']\n",
    "plt.pie(sizes, labels=labels, autopct='%1.1f%%', startangle=90)\n",
    "\n",
    "plt.title('Pie Chart Example')\n",
    "\n",
    "plt.show()\n"
   ]
  },
  {
   "cell_type": "code",
   "execution_count": 56,
   "id": "40d0f203",
   "metadata": {},
   "outputs": [
    {
     "data": {
      "image/png": "[encoded data removed]",
      "text/plain": [
       "<Figure size 640x480 with 1 Axes>"
      ]
     },
     "metadata": {},
     "output_type": "display_data"
    }
   ],
   "source": [
    "import matplotlib.pyplot as plt\n",
    "\n",
    "labels = ['A', 'B', 'C', 'D']\n",
    "values = [10, 20, 30, 40]\n",
    "plt.bar(labels, values, color=['red', 'green', 'blue', 'brown'])\n",
    "plt.title('Bar Chart Example')\n",
    "plt.xlabel('Labels')\n",
    "plt.ylabel('Values')\n",
    "\n",
    "plt.show()\n"
   ]
  },
  {
   "cell_type": "code",
   "execution_count": null,
   "id": "75f74181",
   "metadata": {},
   "outputs": [],
   "source": []
  }
 ],
 "metadata": {
  "kernelspec": {
   "display_name": "Python 3 (ipykernel)",
   "language": "python",
   "name": "python3"
  },
  "language_info": {
   "codemirror_mode": {
    "name": "ipython",
    "version": 3
   },
   "file_extension": ".py",
   "mimetype": "text/x-python",
   "name": "python",
   "nbconvert_exporter": "python",
   "pygments_lexer": "ipython3",
   "version": "3.9.13"
  }
 },
 "nbformat": 4,
 "nbformat_minor": 5
}
