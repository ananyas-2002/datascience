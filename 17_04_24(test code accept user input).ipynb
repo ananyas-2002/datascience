{
 "cells": [
  {
   "cell_type": "code",
   "execution_count": 2,
   "id": "dd8eaef3",
   "metadata": {},
   "outputs": [
    {
     "name": "stdout",
     "output_type": "stream",
     "text": [
      "Please enter the number of instances:\n",
      "5\n",
      "Please enter the features and labels for each instance (separated by commas):\n",
      "Instance 1: 1,5\n",
      "Instance 2: 1,5\n",
      "Instance 3: 2,5\n",
      "Instance 4: 2,7\n",
      "Instance 5: 3,8\n",
      "Accuracy: 0.8\n"
     ]
    }
   ],
   "source": [
    "from sklearn.svm import SVC\n",
    "from sklearn.metrics import accuracy_score\n",
    "import numpy as np\n",
    "\n",
    "# Accept user input for features and labels\n",
    "print(\"Please enter the number of instances:\")\n",
    "num_instances = int(input())\n",
    "\n",
    "X = []\n",
    "y = []\n",
    "\n",
    "print(\"Please enter the features and labels for each instance (separated by commas):\")\n",
    "for i in range(num_instances):\n",
    "    instance_input = input(f\"Instance {i+1}: \")\n",
    "    instance_data = list(map(float, instance_input.split(',')))\n",
    "    X.append(instance_data[:-1])  # Features\n",
    "    y.append(int(instance_data[-1]))  # Label\n",
    "\n",
    "# Convert lists to numpy arrays\n",
    "X = np.array(X)\n",
    "y = np.array(y)\n",
    "\n",
    "# Create and train SVM classifier\n",
    "svm_classifier = SVC()\n",
    "svm_classifier.fit(X, y)\n",
    "\n",
    "# Predict on the training set (for simplicity)\n",
    "y_pred = svm_classifier.predict(X)\n",
    "\n",
    "# Calculate accuracy\n",
    "accuracy = accuracy_score(y, y_pred)\n",
    "print(\"Accuracy:\", accuracy)"
   ]
  },
  {
   "cell_type": "code",
   "execution_count": null,
   "id": "9840a079",
   "metadata": {},
   "outputs": [],
   "source": []
  },
  {
   "cell_type": "code",
   "execution_count": null,
   "id": "9689afc0",
   "metadata": {},
   "outputs": [],
   "source": []
  },
  {
   "cell_type": "code",
   "execution_count": null,
   "id": "2bdd8fea",
   "metadata": {},
   "outputs": [],
   "source": []
  }
 ],
 "metadata": {
  "kernelspec": {
   "display_name": "Python 3 (ipykernel)",
   "language": "python",
   "name": "python3"
  },
  "language_info": {
   "codemirror_mode": {
    "name": "ipython",
    "version": 3
   },
   "file_extension": ".py",
   "mimetype": "text/x-python",
   "name": "python",
   "nbconvert_exporter": "python",
   "pygments_lexer": "ipython3",
   "version": "3.9.13"
  }
 },
 "nbformat": 4,
 "nbformat_minor": 5
}
